{
 "cells": [
  {
   "cell_type": "code",
   "execution_count": 2,
   "id": "9ce7d256",
   "metadata": {},
   "outputs": [],
   "source": [
    "import os\n",
    "from PIL import Image"
   ]
  },
  {
   "cell_type": "code",
   "execution_count": 3,
   "id": "0a3df980",
   "metadata": {},
   "outputs": [
    {
     "data": {
      "text/plain": [
       "(431, 411)"
      ]
     },
     "execution_count": 3,
     "metadata": {},
     "output_type": "execute_result"
    }
   ],
   "source": [
    "# from\n",
    "# https://www.spriters-resource.com/game_boy_advance/pokemonfireredleafgreen/?source=genre\\\n",
    "filename = 'pallet_town_interiors'\n",
    "im = Image.open(f'{filename}.png')\n",
    "im.size"
   ]
  },
  {
   "cell_type": "code",
   "execution_count": 4,
   "id": "e109a370",
   "metadata": {},
   "outputs": [],
   "source": [
    "im.show()"
   ]
  },
  {
   "cell_type": "code",
   "execution_count": 13,
   "id": "2842fb1b",
   "metadata": {},
   "outputs": [
    {
     "data": {
      "text/plain": [
       "(26.0, 20.0)"
      ]
     },
     "execution_count": 13,
     "metadata": {},
     "output_type": "execute_result"
    }
   ],
   "source": [
    "# crop off hero home 1f\n",
    "\n",
    "left = 184\n",
    "upper = 5\n",
    "right = 392\n",
    "lower = 165\n",
    "tilesheet = im.crop(\n",
    "    (left, upper, right, lower)\n",
    ")\n",
    "tilesheet.show()\n",
    "tilesheet.size[0] / 8, tilesheet.size[1] / 8"
   ]
  },
  {
   "cell_type": "code",
   "execution_count": 36,
   "id": "2029f520",
   "metadata": {},
   "outputs": [
    {
     "name": "stdout",
     "output_type": "stream",
     "text": [
      "/Users/alexsieusahai/project_codename/assets\r\n"
     ]
    }
   ],
   "source": [
    "!pwd"
   ]
  },
  {
   "cell_type": "code",
   "execution_count": 16,
   "id": "e270c09e",
   "metadata": {},
   "outputs": [],
   "source": [
    "filename = 'hero_home_1f'\n",
    "try:\n",
    "    os.mkdir(f'{filename}')\n",
    "except FileExistsError:\n",
    "    pass\n",
    "    \n",
    "for x in range(tilesheet.size[0] // 8 + 1):\n",
    "    for y in range(tilesheet.size[1] // 8 + 1):\n",
    "        tile = tilesheet.crop((x * 8, y * 8, (x+1) * 8, (y+1) * 8))\n",
    "        tile.save(f'{filename}/{x}_{y}.png')"
   ]
  }
 ],
 "metadata": {
  "kernelspec": {
   "display_name": "Python 3 (ipykernel)",
   "language": "python",
   "name": "python3"
  },
  "language_info": {
   "codemirror_mode": {
    "name": "ipython",
    "version": 3
   },
   "file_extension": ".py",
   "mimetype": "text/x-python",
   "name": "python",
   "nbconvert_exporter": "python",
   "pygments_lexer": "ipython3",
   "version": "3.9.12"
  }
 },
 "nbformat": 4,
 "nbformat_minor": 5
}
