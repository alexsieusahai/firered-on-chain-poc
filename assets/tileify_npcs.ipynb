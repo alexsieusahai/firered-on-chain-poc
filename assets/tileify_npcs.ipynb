{
 "cells": [
  {
   "cell_type": "code",
   "execution_count": 2,
   "id": "9ce7d256",
   "metadata": {},
   "outputs": [],
   "source": [
    "import os\n",
    "from PIL import Image"
   ]
  },
  {
   "cell_type": "code",
   "execution_count": 3,
   "id": "0a3df980",
   "metadata": {},
   "outputs": [
    {
     "data": {
      "text/plain": [
       "(639, 268)"
      ]
     },
     "execution_count": 3,
     "metadata": {},
     "output_type": "execute_result"
    }
   ],
   "source": [
    "# from\n",
    "# https://www.spriters-resource.com/game_boy_advance/pokemonfireredleafgreen/?source=genre\\\n",
    "filename = 'npcs'\n",
    "im = Image.open(f'{filename}.png')\n",
    "im.size"
   ]
  },
  {
   "cell_type": "code",
   "execution_count": 5,
   "id": "2842fb1b",
   "metadata": {},
   "outputs": [],
   "source": [
    "# crop off banner\n",
    "\n",
    "left = 6\n",
    "upper = 10\n",
    "right = im.size[0]\n",
    "lower = 268 - 8\n",
    "tilesheet = im.crop(\n",
    "    (left, upper, right, lower)\n",
    ")\n",
    "# tilesheet.show()"
   ]
  },
  {
   "cell_type": "code",
   "execution_count": 6,
   "id": "e270c09e",
   "metadata": {},
   "outputs": [],
   "source": [
    "try:\n",
    "    os.mkdir(f'{filename}')\n",
    "except FileExistsError:\n",
    "    pass\n",
    "\n",
    "width = 15\n",
    "height = 20\n",
    "    \n",
    "for x in range(tilesheet.size[0] // width):\n",
    "    for y in range(tilesheet.size[1] // height):\n",
    "        tile = tilesheet.crop(\n",
    "            (x * width, \n",
    "             y * height, \n",
    "             (x+1) * width, \n",
    "             (y+1) * height))\n",
    "        tile.save(f'{filename}/{y}_{x}.png')"
   ]
  }
 ],
 "metadata": {
  "kernelspec": {
   "display_name": "Python 3 (ipykernel)",
   "language": "python",
   "name": "python3"
  },
  "language_info": {
   "codemirror_mode": {
    "name": "ipython",
    "version": 3
   },
   "file_extension": ".py",
   "mimetype": "text/x-python",
   "name": "python",
   "nbconvert_exporter": "python",
   "pygments_lexer": "ipython3",
   "version": "3.9.12"
  }
 },
 "nbformat": 4,
 "nbformat_minor": 5
}
