{
 "cells": [
  {
   "cell_type": "code",
   "execution_count": 2,
   "id": "9ce7d256",
   "metadata": {},
   "outputs": [],
   "source": [
    "import os\n",
    "from PIL import Image"
   ]
  },
  {
   "cell_type": "code",
   "execution_count": 3,
   "id": "0a3df980",
   "metadata": {},
   "outputs": [
    {
     "data": {
      "text/plain": [
       "(639, 268)"
      ]
     },
     "execution_count": 3,
     "metadata": {},
     "output_type": "execute_result"
    }
   ],
   "source": [
    "# from\n",
    "# https://www.spriters-resource.com/game_boy_advance/pokemonfireredleafgreen/?source=genre\\\n",
    "filename = 'npcs'\n",
    "im = Image.open(f'{filename}.png')\n",
    "im.size"
   ]
  },
  {
   "cell_type": "code",
   "execution_count": 4,
   "id": "af93357d",
   "metadata": {},
   "outputs": [],
   "source": [
    "im.show()"
   ]
  },
  {
   "cell_type": "code",
   "execution_count": 12,
   "id": "2842fb1b",
   "metadata": {},
   "outputs": [],
   "source": [
    "# crop off banner\n",
    "\n",
    "left = 6\n",
    "upper = 10\n",
    "right = im.size[0]\n",
    "lower = 320\n",
    "tilesheet = im.crop(\n",
    "    (left, upper, right, lower)\n",
    ")\n",
    "tilesheet.show()"
   ]
  },
  {
   "cell_type": "code",
   "execution_count": 38,
   "id": "e270c09e",
   "metadata": {},
   "outputs": [],
   "source": [
    "try:\n",
    "    os.mkdir(f'{filename}')\n",
    "except FileExistsError:\n",
    "    pass\n",
    "    \n",
    "for x in range(tilesheet.size[0] // 32):\n",
    "    for y in range(tilesheet.size[1] // 32):\n",
    "        tile = tilesheet.crop((x * 32, y * 32, (x+1) * 32, (y+1) * 32))\n",
    "        #tile.save(f'{filename}/{x}_{y}.png')\n",
    "        tile.show()\n",
    "        assert 0"
   ]
  }
 ],
 "metadata": {
  "kernelspec": {
   "display_name": "Python 3 (ipykernel)",
   "language": "python",
   "name": "python3"
  },
  "language_info": {
   "codemirror_mode": {
    "name": "ipython",
    "version": 3
   },
   "file_extension": ".py",
   "mimetype": "text/x-python",
   "name": "python",
   "nbconvert_exporter": "python",
   "pygments_lexer": "ipython3",
   "version": "3.9.12"
  }
 },
 "nbformat": 4,
 "nbformat_minor": 5
}
